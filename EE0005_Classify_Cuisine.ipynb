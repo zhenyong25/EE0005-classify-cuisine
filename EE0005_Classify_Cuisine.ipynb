{
  "nbformat": 4,
  "nbformat_minor": 0,
  "metadata": {
    "colab": {
      "name": "EE0005 Mini Project.ipynb",
      "provenance": [],
      "collapsed_sections": [
        "QAFNj2D0TvUv",
        "CBA8c1OnUS0z",
        "uRF0dcAvUtZB"
      ],
      "toc_visible": true,
      "include_colab_link": true
    },
    "kernelspec": {
      "name": "python3",
      "display_name": "Python 3"
    }
  },
  "cells": [
    {
      "cell_type": "markdown",
      "metadata": {
        "id": "view-in-github",
        "colab_type": "text"
      },
      "source": [
        "<a href=\"https://colab.research.google.com/github/zhenyong25/EE0005_Classify_Cusine-/blob/main/EE0005_Classify_Cuisine.ipynb\" target=\"_parent\"><img src=\"https://colab.research.google.com/assets/colab-badge.svg\" alt=\"Open In Colab\"/></a>"
      ]
    },
    {
      "cell_type": "markdown",
      "metadata": {
        "id": "kqimBDVkgq6R"
      },
      "source": [
        "#**Cooking Recipe**"
      ]
    },
    {
      "cell_type": "markdown",
      "metadata": {
        "id": "e1ED8KN0eJp6"
      },
      "source": [
        "\n",
        "\n",
        "###**Problem: Can we classify the type of cuisine based on the list of ingredients provided?**"
      ]
    },
    {
      "cell_type": "markdown",
      "metadata": {
        "id": "tnbwKIeZO_Cd"
      },
      "source": [
        "# Data Acquisition\n",
        "\n",
        "---\n",
        "\n",
        "### Essential Libraries\n",
        "\n",
        "Let us begin by importing the essential Python Libraries.\n",
        "\n",
        "> NumPy : Library for Numeric Computations in Python  \n",
        "> Pandas : Library for Data Acquisition and Preparation  \n",
        "> Matplotlib : Low-level library for Data Visualization  \n",
        "> Seaborn : Higher-level library for Data Visualization\n"
      ]
    },
    {
      "cell_type": "code",
      "metadata": {
        "id": "pFGI7lx9Ow6A"
      },
      "source": [
        "import pandas as pd\n",
        "from sklearn.ensemble import RandomForestClassifier as RFC\n",
        "import matplotlib.pyplot as plt\n",
        "import numpy as np\n",
        "import seaborn as sb \n",
        "sb.set()\n",
        "import random\n",
        "import gc"
      ],
      "execution_count": 1,
      "outputs": []
    },
    {
      "cell_type": "markdown",
      "metadata": {
        "id": "zw_iA3WTPOPU"
      },
      "source": [
        "###**Import Data and Clean Data**\n",
        "\n",
        "We first look at the train dataset provided\n",
        "\n",
        "The dataset given is in JSON format; hence we use the `read_json` function from Pandas.  \n",
        "Immediately after importing, take a quick look at the data using the `head` function."
      ]
    },
    {
      "cell_type": "code",
      "metadata": {
        "id": "QUx8XYcKPX8L",
        "outputId": "4f650c48-26ea-4797-b022-a461f87cbd49",
        "colab": {
          "base_uri": "https://localhost:8080/",
          "height": 329
        }
      },
      "source": [
        "cookingdata_train = pd.read_json('train.json')\n",
        "cookingdata_train.head()\n"
      ],
      "execution_count": null,
      "outputs": [
        {
          "output_type": "error",
          "ename": "ValueError",
          "evalue": "ignored",
          "traceback": [
            "\u001b[0;31m---------------------------------------------------------------------------\u001b[0m",
            "\u001b[0;31mValueError\u001b[0m                                Traceback (most recent call last)",
            "\u001b[0;32m<ipython-input-3-af432998db94>\u001b[0m in \u001b[0;36m<module>\u001b[0;34m()\u001b[0m\n\u001b[0;32m----> 1\u001b[0;31m \u001b[0mcookingdata_train\u001b[0m \u001b[0;34m=\u001b[0m \u001b[0mpd\u001b[0m\u001b[0;34m.\u001b[0m\u001b[0mread_json\u001b[0m\u001b[0;34m(\u001b[0m\u001b[0;34m'train.json'\u001b[0m\u001b[0;34m)\u001b[0m\u001b[0;34m\u001b[0m\u001b[0;34m\u001b[0m\u001b[0m\n\u001b[0m\u001b[1;32m      2\u001b[0m \u001b[0mcookingdata_train\u001b[0m\u001b[0;34m.\u001b[0m\u001b[0mhead\u001b[0m\u001b[0;34m(\u001b[0m\u001b[0;34m)\u001b[0m\u001b[0;34m\u001b[0m\u001b[0;34m\u001b[0m\u001b[0m\n",
            "\u001b[0;32m/usr/local/lib/python3.6/dist-packages/pandas/util/_decorators.py\u001b[0m in \u001b[0;36mwrapper\u001b[0;34m(*args, **kwargs)\u001b[0m\n\u001b[1;32m    197\u001b[0m                 \u001b[0;32melse\u001b[0m\u001b[0;34m:\u001b[0m\u001b[0;34m\u001b[0m\u001b[0;34m\u001b[0m\u001b[0m\n\u001b[1;32m    198\u001b[0m                     \u001b[0mkwargs\u001b[0m\u001b[0;34m[\u001b[0m\u001b[0mnew_arg_name\u001b[0m\u001b[0;34m]\u001b[0m \u001b[0;34m=\u001b[0m \u001b[0mnew_arg_value\u001b[0m\u001b[0;34m\u001b[0m\u001b[0;34m\u001b[0m\u001b[0m\n\u001b[0;32m--> 199\u001b[0;31m             \u001b[0;32mreturn\u001b[0m \u001b[0mfunc\u001b[0m\u001b[0;34m(\u001b[0m\u001b[0;34m*\u001b[0m\u001b[0margs\u001b[0m\u001b[0;34m,\u001b[0m \u001b[0;34m**\u001b[0m\u001b[0mkwargs\u001b[0m\u001b[0;34m)\u001b[0m\u001b[0;34m\u001b[0m\u001b[0;34m\u001b[0m\u001b[0m\n\u001b[0m\u001b[1;32m    200\u001b[0m \u001b[0;34m\u001b[0m\u001b[0m\n\u001b[1;32m    201\u001b[0m         \u001b[0;32mreturn\u001b[0m \u001b[0mcast\u001b[0m\u001b[0;34m(\u001b[0m\u001b[0mF\u001b[0m\u001b[0;34m,\u001b[0m \u001b[0mwrapper\u001b[0m\u001b[0;34m)\u001b[0m\u001b[0;34m\u001b[0m\u001b[0;34m\u001b[0m\u001b[0m\n",
            "\u001b[0;32m/usr/local/lib/python3.6/dist-packages/pandas/util/_decorators.py\u001b[0m in \u001b[0;36mwrapper\u001b[0;34m(*args, **kwargs)\u001b[0m\n\u001b[1;32m    294\u001b[0m                 )\n\u001b[1;32m    295\u001b[0m                 \u001b[0mwarnings\u001b[0m\u001b[0;34m.\u001b[0m\u001b[0mwarn\u001b[0m\u001b[0;34m(\u001b[0m\u001b[0mmsg\u001b[0m\u001b[0;34m,\u001b[0m \u001b[0mFutureWarning\u001b[0m\u001b[0;34m,\u001b[0m \u001b[0mstacklevel\u001b[0m\u001b[0;34m=\u001b[0m\u001b[0mstacklevel\u001b[0m\u001b[0;34m)\u001b[0m\u001b[0;34m\u001b[0m\u001b[0;34m\u001b[0m\u001b[0m\n\u001b[0;32m--> 296\u001b[0;31m             \u001b[0;32mreturn\u001b[0m \u001b[0mfunc\u001b[0m\u001b[0;34m(\u001b[0m\u001b[0;34m*\u001b[0m\u001b[0margs\u001b[0m\u001b[0;34m,\u001b[0m \u001b[0;34m**\u001b[0m\u001b[0mkwargs\u001b[0m\u001b[0;34m)\u001b[0m\u001b[0;34m\u001b[0m\u001b[0;34m\u001b[0m\u001b[0m\n\u001b[0m\u001b[1;32m    297\u001b[0m \u001b[0;34m\u001b[0m\u001b[0m\n\u001b[1;32m    298\u001b[0m         \u001b[0;32mreturn\u001b[0m \u001b[0mwrapper\u001b[0m\u001b[0;34m\u001b[0m\u001b[0;34m\u001b[0m\u001b[0m\n",
            "\u001b[0;32m/usr/local/lib/python3.6/dist-packages/pandas/io/json/_json.py\u001b[0m in \u001b[0;36mread_json\u001b[0;34m(path_or_buf, orient, typ, dtype, convert_axes, convert_dates, keep_default_dates, numpy, precise_float, date_unit, encoding, lines, chunksize, compression, nrows)\u001b[0m\n\u001b[1;32m    616\u001b[0m         \u001b[0;32mreturn\u001b[0m \u001b[0mjson_reader\u001b[0m\u001b[0;34m\u001b[0m\u001b[0;34m\u001b[0m\u001b[0m\n\u001b[1;32m    617\u001b[0m \u001b[0;34m\u001b[0m\u001b[0m\n\u001b[0;32m--> 618\u001b[0;31m     \u001b[0mresult\u001b[0m \u001b[0;34m=\u001b[0m \u001b[0mjson_reader\u001b[0m\u001b[0;34m.\u001b[0m\u001b[0mread\u001b[0m\u001b[0;34m(\u001b[0m\u001b[0;34m)\u001b[0m\u001b[0;34m\u001b[0m\u001b[0;34m\u001b[0m\u001b[0m\n\u001b[0m\u001b[1;32m    619\u001b[0m     \u001b[0;32mif\u001b[0m \u001b[0mshould_close\u001b[0m\u001b[0;34m:\u001b[0m\u001b[0;34m\u001b[0m\u001b[0;34m\u001b[0m\u001b[0m\n\u001b[1;32m    620\u001b[0m         \u001b[0mfilepath_or_buffer\u001b[0m\u001b[0;34m.\u001b[0m\u001b[0mclose\u001b[0m\u001b[0;34m(\u001b[0m\u001b[0;34m)\u001b[0m\u001b[0;34m\u001b[0m\u001b[0;34m\u001b[0m\u001b[0m\n",
            "\u001b[0;32m/usr/local/lib/python3.6/dist-packages/pandas/io/json/_json.py\u001b[0m in \u001b[0;36mread\u001b[0;34m(self)\u001b[0m\n\u001b[1;32m    753\u001b[0m                 \u001b[0mobj\u001b[0m \u001b[0;34m=\u001b[0m \u001b[0mself\u001b[0m\u001b[0;34m.\u001b[0m\u001b[0m_get_object_parser\u001b[0m\u001b[0;34m(\u001b[0m\u001b[0mself\u001b[0m\u001b[0;34m.\u001b[0m\u001b[0m_combine_lines\u001b[0m\u001b[0;34m(\u001b[0m\u001b[0mdata\u001b[0m\u001b[0;34m)\u001b[0m\u001b[0;34m)\u001b[0m\u001b[0;34m\u001b[0m\u001b[0;34m\u001b[0m\u001b[0m\n\u001b[1;32m    754\u001b[0m         \u001b[0;32melse\u001b[0m\u001b[0;34m:\u001b[0m\u001b[0;34m\u001b[0m\u001b[0;34m\u001b[0m\u001b[0m\n\u001b[0;32m--> 755\u001b[0;31m             \u001b[0mobj\u001b[0m \u001b[0;34m=\u001b[0m \u001b[0mself\u001b[0m\u001b[0;34m.\u001b[0m\u001b[0m_get_object_parser\u001b[0m\u001b[0;34m(\u001b[0m\u001b[0mself\u001b[0m\u001b[0;34m.\u001b[0m\u001b[0mdata\u001b[0m\u001b[0;34m)\u001b[0m\u001b[0;34m\u001b[0m\u001b[0;34m\u001b[0m\u001b[0m\n\u001b[0m\u001b[1;32m    756\u001b[0m         \u001b[0mself\u001b[0m\u001b[0;34m.\u001b[0m\u001b[0mclose\u001b[0m\u001b[0;34m(\u001b[0m\u001b[0;34m)\u001b[0m\u001b[0;34m\u001b[0m\u001b[0;34m\u001b[0m\u001b[0m\n\u001b[1;32m    757\u001b[0m         \u001b[0;32mreturn\u001b[0m \u001b[0mobj\u001b[0m\u001b[0;34m\u001b[0m\u001b[0;34m\u001b[0m\u001b[0m\n",
            "\u001b[0;32m/usr/local/lib/python3.6/dist-packages/pandas/io/json/_json.py\u001b[0m in \u001b[0;36m_get_object_parser\u001b[0;34m(self, json)\u001b[0m\n\u001b[1;32m    775\u001b[0m         \u001b[0mobj\u001b[0m \u001b[0;34m=\u001b[0m \u001b[0;32mNone\u001b[0m\u001b[0;34m\u001b[0m\u001b[0;34m\u001b[0m\u001b[0m\n\u001b[1;32m    776\u001b[0m         \u001b[0;32mif\u001b[0m \u001b[0mtyp\u001b[0m \u001b[0;34m==\u001b[0m \u001b[0;34m\"frame\"\u001b[0m\u001b[0;34m:\u001b[0m\u001b[0;34m\u001b[0m\u001b[0;34m\u001b[0m\u001b[0m\n\u001b[0;32m--> 777\u001b[0;31m             \u001b[0mobj\u001b[0m \u001b[0;34m=\u001b[0m \u001b[0mFrameParser\u001b[0m\u001b[0;34m(\u001b[0m\u001b[0mjson\u001b[0m\u001b[0;34m,\u001b[0m \u001b[0;34m**\u001b[0m\u001b[0mkwargs\u001b[0m\u001b[0;34m)\u001b[0m\u001b[0;34m.\u001b[0m\u001b[0mparse\u001b[0m\u001b[0;34m(\u001b[0m\u001b[0;34m)\u001b[0m\u001b[0;34m\u001b[0m\u001b[0;34m\u001b[0m\u001b[0m\n\u001b[0m\u001b[1;32m    778\u001b[0m \u001b[0;34m\u001b[0m\u001b[0m\n\u001b[1;32m    779\u001b[0m         \u001b[0;32mif\u001b[0m \u001b[0mtyp\u001b[0m \u001b[0;34m==\u001b[0m \u001b[0;34m\"series\"\u001b[0m \u001b[0;32mor\u001b[0m \u001b[0mobj\u001b[0m \u001b[0;32mis\u001b[0m \u001b[0;32mNone\u001b[0m\u001b[0;34m:\u001b[0m\u001b[0;34m\u001b[0m\u001b[0;34m\u001b[0m\u001b[0m\n",
            "\u001b[0;32m/usr/local/lib/python3.6/dist-packages/pandas/io/json/_json.py\u001b[0m in \u001b[0;36mparse\u001b[0;34m(self)\u001b[0m\n\u001b[1;32m    884\u001b[0m \u001b[0;34m\u001b[0m\u001b[0m\n\u001b[1;32m    885\u001b[0m         \u001b[0;32melse\u001b[0m\u001b[0;34m:\u001b[0m\u001b[0;34m\u001b[0m\u001b[0;34m\u001b[0m\u001b[0m\n\u001b[0;32m--> 886\u001b[0;31m             \u001b[0mself\u001b[0m\u001b[0;34m.\u001b[0m\u001b[0m_parse_no_numpy\u001b[0m\u001b[0;34m(\u001b[0m\u001b[0;34m)\u001b[0m\u001b[0;34m\u001b[0m\u001b[0;34m\u001b[0m\u001b[0m\n\u001b[0m\u001b[1;32m    887\u001b[0m \u001b[0;34m\u001b[0m\u001b[0m\n\u001b[1;32m    888\u001b[0m         \u001b[0;32mif\u001b[0m \u001b[0mself\u001b[0m\u001b[0;34m.\u001b[0m\u001b[0mobj\u001b[0m \u001b[0;32mis\u001b[0m \u001b[0;32mNone\u001b[0m\u001b[0;34m:\u001b[0m\u001b[0;34m\u001b[0m\u001b[0;34m\u001b[0m\u001b[0m\n",
            "\u001b[0;32m/usr/local/lib/python3.6/dist-packages/pandas/io/json/_json.py\u001b[0m in \u001b[0;36m_parse_no_numpy\u001b[0;34m(self)\u001b[0m\n\u001b[1;32m   1117\u001b[0m         \u001b[0;32mif\u001b[0m \u001b[0morient\u001b[0m \u001b[0;34m==\u001b[0m \u001b[0;34m\"columns\"\u001b[0m\u001b[0;34m:\u001b[0m\u001b[0;34m\u001b[0m\u001b[0;34m\u001b[0m\u001b[0m\n\u001b[1;32m   1118\u001b[0m             self.obj = DataFrame(\n\u001b[0;32m-> 1119\u001b[0;31m                 \u001b[0mloads\u001b[0m\u001b[0;34m(\u001b[0m\u001b[0mjson\u001b[0m\u001b[0;34m,\u001b[0m \u001b[0mprecise_float\u001b[0m\u001b[0;34m=\u001b[0m\u001b[0mself\u001b[0m\u001b[0;34m.\u001b[0m\u001b[0mprecise_float\u001b[0m\u001b[0;34m)\u001b[0m\u001b[0;34m,\u001b[0m \u001b[0mdtype\u001b[0m\u001b[0;34m=\u001b[0m\u001b[0;32mNone\u001b[0m\u001b[0;34m\u001b[0m\u001b[0;34m\u001b[0m\u001b[0m\n\u001b[0m\u001b[1;32m   1120\u001b[0m             )\n\u001b[1;32m   1121\u001b[0m         \u001b[0;32melif\u001b[0m \u001b[0morient\u001b[0m \u001b[0;34m==\u001b[0m \u001b[0;34m\"split\"\u001b[0m\u001b[0;34m:\u001b[0m\u001b[0;34m\u001b[0m\u001b[0;34m\u001b[0m\u001b[0m\n",
            "\u001b[0;31mValueError\u001b[0m: Unmatched ''\"' when when decoding 'string'"
          ]
        }
      ]
    },
    {
      "cell_type": "markdown",
      "metadata": {
        "id": "85smCKrBQzk9"
      },
      "source": [
        "Description of dataset:\n",
        "\n",
        "In the dataset, we include the\n",
        "> **Recipe ID** : ID for each recipe   \n",
        "> **Type of cuisine**: Type of cuisine for each recipe  \n",
        "> **List of ingredients of each recipe**: Ingredients in each recipe  \n",
        "\n",
        "---\n",
        "Check the vital statistics of the dataset using the `type` and `shape` attributes."
      ]
    },
    {
      "cell_type": "code",
      "metadata": {
        "id": "hVI-Q2DtQ3Vv"
      },
      "source": [
        "print('Data type: ', type(cookingdata_train))\n",
        "print('Data dim: ', cookingdata_train.shape)"
      ],
      "execution_count": null,
      "outputs": []
    },
    {
      "cell_type": "markdown",
      "metadata": {
        "id": "iDCxYqRfRF-k"
      },
      "source": [
        "Check the variables (and their types) in the dataset using the `dtypes` attribute."
      ]
    },
    {
      "cell_type": "code",
      "metadata": {
        "id": "dNv2R5jSROU_"
      },
      "source": [
        "cookingdata_train.dtypes"
      ],
      "execution_count": null,
      "outputs": []
    },
    {
      "cell_type": "markdown",
      "metadata": {
        "id": "7vEsIa954WRP"
      },
      "source": [
        "Check the details of dataset using the `info()` attribute "
      ]
    },
    {
      "cell_type": "code",
      "metadata": {
        "id": "dhfc_wHT3pRm"
      },
      "source": [
        "cookingdata_train.info()"
      ],
      "execution_count": null,
      "outputs": []
    },
    {
      "cell_type": "markdown",
      "metadata": {
        "id": "PwZQxXm_SPox"
      },
      "source": [
        "---\n",
        "\n",
        "Next we look at the test data set provided"
      ]
    },
    {
      "cell_type": "code",
      "metadata": {
        "id": "bY4okhQ-SRWB"
      },
      "source": [
        "cookingdata_test = pd.read_json('test.json')\n",
        "cookingdata_test.head()"
      ],
      "execution_count": null,
      "outputs": []
    },
    {
      "cell_type": "code",
      "metadata": {
        "id": "2YtMgdBLSmxX"
      },
      "source": [
        "print('Data type: ', type(cookingdata_test))\n",
        "print('Data dim: ', cookingdata_test.shape)"
      ],
      "execution_count": null,
      "outputs": []
    },
    {
      "cell_type": "code",
      "metadata": {
        "id": "E6lztk1ISv8m"
      },
      "source": [
        "cookingdata_test.dtypes"
      ],
      "execution_count": null,
      "outputs": []
    },
    {
      "cell_type": "code",
      "metadata": {
        "id": "8UDmdgeuSyeG"
      },
      "source": [
        "ingredients = pd.DataFrame(cookingdata_test['ingredients'])\n",
        "ingredients.head()"
      ],
      "execution_count": null,
      "outputs": []
    },
    {
      "cell_type": "markdown",
      "metadata": {
        "id": "gMkLhGRLS6Pr"
      },
      "source": [
        "\n",
        "## Explore the dataset\n",
        "\n",
        "We need to start by first summarizing the characteristics of the dataset visually\n",
        "\n",
        "## Exploratory Data Analysis:\n",
        "\n",
        "number of ingredients in each cuisine \n",
        "number of cuisines in dataset (distribution of cuisines)  \n",
        "type of ingredients in each recipe  \n",
        "all the different types of cuisines\n"
      ]
    },
    {
      "cell_type": "markdown",
      "metadata": {
        "id": "PffZz_mGTGaT"
      },
      "source": [
        "#### Count the number of types of Cuisines in Dataset\n",
        "\n",
        "We first want to find the number of types of cuisines provided in the dataset and the counts of each type of cuisine **given**"
      ]
    },
    {
      "cell_type": "code",
      "metadata": {
        "id": "QiVaAlbgS9el",
        "outputId": "fb4f161b-7fc5-4a2f-e801-9cfd3c08e5a6",
        "colab": {
          "base_uri": "https://localhost:8080/",
          "height": 218
        }
      },
      "source": [
        "print('Number of Types of Cuisines: ',len(cookingdata_train['cuisine'].unique()))\n",
        "\n",
        "cuisinedata = pd.DataFrame(cookingdata_train['cuisine'])\n",
        "cuisinedata['cuisine'].value_counts()"
      ],
      "execution_count": null,
      "outputs": [
        {
          "output_type": "error",
          "ename": "NameError",
          "evalue": "ignored",
          "traceback": [
            "\u001b[0;31m---------------------------------------------------------------------------\u001b[0m",
            "\u001b[0;31mNameError\u001b[0m                                 Traceback (most recent call last)",
            "\u001b[0;32m<ipython-input-4-ee52102cc1a1>\u001b[0m in \u001b[0;36m<module>\u001b[0;34m()\u001b[0m\n\u001b[0;32m----> 1\u001b[0;31m \u001b[0mprint\u001b[0m\u001b[0;34m(\u001b[0m\u001b[0;34m'Number of Types of Cuisines: '\u001b[0m\u001b[0;34m,\u001b[0m\u001b[0mlen\u001b[0m\u001b[0;34m(\u001b[0m\u001b[0mcookingdata_train\u001b[0m\u001b[0;34m[\u001b[0m\u001b[0;34m'cuisine'\u001b[0m\u001b[0;34m]\u001b[0m\u001b[0;34m.\u001b[0m\u001b[0munique\u001b[0m\u001b[0;34m(\u001b[0m\u001b[0;34m)\u001b[0m\u001b[0;34m)\u001b[0m\u001b[0;34m)\u001b[0m\u001b[0;34m\u001b[0m\u001b[0;34m\u001b[0m\u001b[0m\n\u001b[0m\u001b[1;32m      2\u001b[0m \u001b[0;34m\u001b[0m\u001b[0m\n\u001b[1;32m      3\u001b[0m \u001b[0mcuisinedata\u001b[0m \u001b[0;34m=\u001b[0m \u001b[0mpd\u001b[0m\u001b[0;34m.\u001b[0m\u001b[0mDataFrame\u001b[0m\u001b[0;34m(\u001b[0m\u001b[0mcookingdata_train\u001b[0m\u001b[0;34m[\u001b[0m\u001b[0;34m'cuisine'\u001b[0m\u001b[0;34m]\u001b[0m\u001b[0;34m)\u001b[0m\u001b[0;34m\u001b[0m\u001b[0;34m\u001b[0m\u001b[0m\n\u001b[1;32m      4\u001b[0m \u001b[0mcuisinedata\u001b[0m\u001b[0;34m[\u001b[0m\u001b[0;34m'cuisine'\u001b[0m\u001b[0;34m]\u001b[0m\u001b[0;34m.\u001b[0m\u001b[0mvalue_counts\u001b[0m\u001b[0;34m(\u001b[0m\u001b[0;34m)\u001b[0m\u001b[0;34m\u001b[0m\u001b[0;34m\u001b[0m\u001b[0m\n",
            "\u001b[0;31mNameError\u001b[0m: name 'cookingdata_train' is not defined"
          ]
        }
      ]
    },
    {
      "cell_type": "markdown",
      "metadata": {
        "id": "BJglmGPlTiFa"
      },
      "source": [
        "We plot a countplot to look at the counts of each cuisine in the dataset\n",
        "\n",
        "\n"
      ]
    },
    {
      "cell_type": "code",
      "metadata": {
        "id": "xk268ItHTk1G",
        "outputId": "de5395a5-a88e-47a5-dca0-ca6c8c03f490",
        "colab": {
          "base_uri": "https://localhost:8080/",
          "height": 1000
        }
      },
      "source": [
        "f, axes = plt.subplots(1,1,figsize = (30,30))\n",
        "sb.countplot(cuisinedata['cuisine'])"
      ],
      "execution_count": null,
      "outputs": [
        {
          "output_type": "error",
          "ename": "NameError",
          "evalue": "ignored",
          "traceback": [
            "\u001b[0;31m---------------------------------------------------------------------------\u001b[0m",
            "\u001b[0;31mNameError\u001b[0m                                 Traceback (most recent call last)",
            "\u001b[0;32m<ipython-input-5-7f395582cca2>\u001b[0m in \u001b[0;36m<module>\u001b[0;34m()\u001b[0m\n\u001b[1;32m      1\u001b[0m \u001b[0mf\u001b[0m\u001b[0;34m,\u001b[0m \u001b[0maxes\u001b[0m \u001b[0;34m=\u001b[0m \u001b[0mplt\u001b[0m\u001b[0;34m.\u001b[0m\u001b[0msubplots\u001b[0m\u001b[0;34m(\u001b[0m\u001b[0;36m1\u001b[0m\u001b[0;34m,\u001b[0m\u001b[0;36m1\u001b[0m\u001b[0;34m,\u001b[0m\u001b[0mfigsize\u001b[0m \u001b[0;34m=\u001b[0m \u001b[0;34m(\u001b[0m\u001b[0;36m30\u001b[0m\u001b[0;34m,\u001b[0m\u001b[0;36m30\u001b[0m\u001b[0;34m)\u001b[0m\u001b[0;34m)\u001b[0m\u001b[0;34m\u001b[0m\u001b[0;34m\u001b[0m\u001b[0m\n\u001b[0;32m----> 2\u001b[0;31m \u001b[0msb\u001b[0m\u001b[0;34m.\u001b[0m\u001b[0mcountplot\u001b[0m\u001b[0;34m(\u001b[0m\u001b[0mcuisinedata\u001b[0m\u001b[0;34m[\u001b[0m\u001b[0;34m'cuisine'\u001b[0m\u001b[0;34m]\u001b[0m\u001b[0;34m)\u001b[0m\u001b[0;34m\u001b[0m\u001b[0;34m\u001b[0m\u001b[0m\n\u001b[0m",
            "\u001b[0;31mNameError\u001b[0m: name 'cuisinedata' is not defined"
          ]
        },
        {
          "output_type": "display_data",
          "data": {
            "image/png": "[encoded data removed]",
            "text/plain": [
              "<Figure size 2160x2160 with 1 Axes>"
            ]
          },
          "metadata": {
            "tags": [],
            "needs_background": "light"
          }
        }
      ]
    },
    {
      "cell_type": "markdown",
      "metadata": {
        "id": "QAFNj2D0TvUv"
      },
      "source": [
        "#### Number of Ingredients per cuisine meal  \n",
        "\n",
        "Here we plot the number of ingredients per meal and frequency of each cuisine meal"
      ]
    },
    {
      "cell_type": "code",
      "metadata": {
        "id": "GWCI5qf9TwUo"
      },
      "source": [
        "ingredientData = pd.DataFrame(cookingdata_train['ingredients'])\n",
        "ingredientData\n",
        "\n",
        "ingredientnumber = []\n",
        "\n",
        "for i in range (0, 39774):\n",
        "    ingredientnumber.append(len(ingredientData.iloc[i][0]))\n",
        "\n",
        "ingredientnumber_df = pd.DataFrame(ingredientnumber, columns = ['Number of ingredients'])\n",
        "ingredientnumber_df\n",
        "\n",
        "cookingdata_train = pd.concat([cookingdata_train, ingredientnumber_df], axis = 1)\n",
        "cookingdata_train.head()"
      ],
      "execution_count": null,
      "outputs": []
    },
    {
      "cell_type": "markdown",
      "metadata": {
        "id": "bRKvzhZcUIK9"
      },
      "source": [
        "We visualize the distribution of the number of ingredients and its frequency"
      ]
    },
    {
      "cell_type": "code",
      "metadata": {
        "id": "QLn6U810UIqo"
      },
      "source": [
        "f, axes = plt.subplots(1,1, figsize = (20,20))\n",
        "sb.distplot(cookingdata_train['Number of ingredients'], kde = False)"
      ],
      "execution_count": null,
      "outputs": []
    },
    {
      "cell_type": "markdown",
      "metadata": {
        "id": "CBA8c1OnUS0z"
      },
      "source": [
        "#### Average number of ingredients per cuisine  \n",
        "\n",
        "Next, we want to find out the average number of ingredients per dish in each cuisine"
      ]
    },
    {
      "cell_type": "code",
      "metadata": {
        "id": "vdp37u8-UUEU"
      },
      "source": [
        "cuisineingredients = cookingdata_train['Number of ingredients'].groupby(cookingdata_train['cuisine'])\n",
        "print(cuisineingredients.mean())"
      ],
      "execution_count": null,
      "outputs": []
    },
    {
      "cell_type": "code",
      "metadata": {
        "id": "3JPfoLpPUde1"
      },
      "source": [
        "cuisineingredients_df = pd.DataFrame(cuisineingredients.mean().round())\n",
        "cuisineingredients_df"
      ],
      "execution_count": null,
      "outputs": []
    },
    {
      "cell_type": "code",
      "metadata": {
        "id": "Heu5wGCmUivw"
      },
      "source": [
        "fig = plt.figure(figsize = (20,8))\n",
        "ax = fig.add_axes([0, 0 ,1 ,1])\n",
        "cuisines = ['brazillian', 'british', 'cajun_creole', 'chinese', 'filipino',\n",
        "           'french', 'greek', 'indian', 'irish', 'italian', 'jamican', 'japanese',\n",
        "           'korean', 'mexican', 'moroccan', 'russian', 'southern_us', 'spanish', 'thai',\n",
        "           'vietnamese']\n",
        "\n",
        "average = [10, 10, 13, 12,10,10,10,13,9,10,12,10,11,11,13,10,10,10,13,13]\n",
        "ax.bar(cuisines, average)\n",
        "plt.show()"
      ],
      "execution_count": null,
      "outputs": []
    },
    {
      "cell_type": "code",
      "metadata": {
        "id": "z4kOqfa5CCfW"
      },
      "source": [
        "f, axes = plt.subplots(1, 1, figsize=(18, 24))\n",
        "sb.boxplot(x = 'Number of ingredients', y = \"cuisine\", data = cookingdata_train, orient = \"h\")"
      ],
      "execution_count": null,
      "outputs": []
    },
    {
      "cell_type": "markdown",
      "metadata": {
        "id": "d6wnTFf6D6ZC"
      },
      "source": [
        ""
      ]
    },
    {
      "cell_type": "markdown",
      "metadata": {
        "id": "uRF0dcAvUtZB"
      },
      "source": [
        "#### Count of Ingredients in Dataset\n",
        "\n",
        "We now want a distribution of all the different kinds of ingredients and their counts"
      ]
    },
    {
      "cell_type": "code",
      "metadata": {
        "id": "mmcr0nstUsE0"
      },
      "source": [
        "ingredientData = pd.DataFrame(cookingdata_train['ingredients'])\n",
        "ingredientData"
      ],
      "execution_count": null,
      "outputs": []
    },
    {
      "cell_type": "markdown",
      "metadata": {
        "id": "B2RBPqUmU463"
      },
      "source": [
        "Next we have to create a list of all the ingredients\n",
        "\n",
        "We first make a dictionary of ingredients with their total used times in the dataset"
      ]
    },
    {
      "cell_type": "code",
      "metadata": {
        "id": "15HH4oKTU5oZ"
      },
      "source": [
        "ingredientDict = {} #creating an empty dictionary\n",
        "for i in range (0, 39774): #for loop to go throught all rows\n",
        "    for ingredient in ingredientData.iloc[i][0]: #for loop to go through inner arrays of each row\n",
        "        if ingredient not in ingredientDict.keys():  #if ingredient is not in dictionary, it will be the the first instance\n",
        "            ingredientDict[ingredient] = 1\n",
        "        else:\n",
        "            ingredientDict[ingredient] += 1 #else if ingredient is already in dictionary, add another instance\n",
        "ingredientDict\n"
      ],
      "execution_count": null,
      "outputs": []
    },
    {
      "cell_type": "markdown",
      "metadata": {
        "id": "MHtiXxBrVF5o"
      },
      "source": [
        "We then sort the dictionary in terms of ingredient with most count to ingredient with least count"
      ]
    },
    {
      "cell_type": "code",
      "metadata": {
        "id": "Lieiy51RVHHQ"
      },
      "source": [
        "sorted_dict = {} #creating an empty dictionary\n",
        "sorted_keys = sorted(ingredientDict, key=ingredientDict.get, reverse=True) # use ingredientDict, get keys from ingredientDict\n",
        "                                                                           # we previously created, and list from most counts\n",
        "                                                                           # to least counts, python sorted() function is used\n",
        "                                                                           # to sort the dictionary\n",
        "for r in sorted_keys:\n",
        "    sorted_dict[r] = ingredientDict[r]\n",
        "\n",
        "sorted_dict"
      ],
      "execution_count": null,
      "outputs": []
    },
    {
      "cell_type": "markdown",
      "metadata": {
        "id": "_ZJ7OL8TVRQ2"
      },
      "source": [
        "Converting the sorted dictionary into a pandas dataframe"
      ]
    },
    {
      "cell_type": "code",
      "metadata": {
        "id": "dMt8igV_VP1f"
      },
      "source": [
        "ingredientsDF = pd.DataFrame(list(sorted_dict.items()),columns = ['ingredient','count']) # create pandas df through the sorted dict\n",
        "pd.set_option(\"display.max_rows\", None, \"display.max_columns\", None) #display all rows and columns\n",
        "print(ingredientsDF)"
      ],
      "execution_count": null,
      "outputs": []
    },
    {
      "cell_type": "code",
      "metadata": {
        "id": "uj3BnnHWVVe-"
      },
      "source": [
        "ingredient_list = []\n",
        "for key in sorted_dict.keys():\n",
        "    ingredient_list.append(key)"
      ],
      "execution_count": null,
      "outputs": []
    },
    {
      "cell_type": "code",
      "metadata": {
        "id": "G3Yh_JKdVZ8t"
      },
      "source": [
        "ingredient_list"
      ],
      "execution_count": null,
      "outputs": []
    },
    {
      "cell_type": "code",
      "metadata": {
        "id": "lfxCm2ZdVccs"
      },
      "source": [
        "from sklearn.model_selection import train_test_split\n",
        "\n",
        "# Extract Response and Predictors\n",
        "df = pd.DataFrame(cookingdata_train)\n",
        "\n",
        "# Split the Dataset into Train and Test\n",
        "train_df, test_df = train_test_split(df, test_size = 0.25)"
      ],
      "execution_count": null,
      "outputs": []
    },
    {
      "cell_type": "code",
      "metadata": {
        "id": "rzCd6b07VvyL"
      },
      "source": [
        "ax=plt.subplot()\n",
        "CuisineCall = list(range(0,len(train_df['cuisine'].value_counts().index)))\n",
        "LABELS=train_df['cuisine'].value_counts().index\n",
        "ax.bar(CuisineCall,train_df['cuisine'].value_counts(),width=0.5,color='b',align='center', label='train data')\n",
        "ax.bar(CuisineCall,test_df['cuisine'].value_counts(),width=0.5,color='g',align='center',label='test data')\n",
        "plt.xticks(CuisineCall, LABELS,rotation=85)\n",
        "ax.autoscale(tight=True)\n",
        "plt.legend()\n",
        "\n",
        "plt.show()"
      ],
      "execution_count": null,
      "outputs": []
    },
    {
      "cell_type": "code",
      "metadata": {
        "id": "fEx7-misV9Zr"
      },
      "source": [
        "# Get the ingredients column from the new train data and create the list of all existing ingredients\n",
        "raw_ingredients = list()\n",
        "for recipt in train_df.iloc[:,2]:\n",
        "    for ingredient in recipt:\n",
        "        raw_ingredients.append(ingredient.strip())\n",
        "        \n",
        "raw_cuisines = list()\n",
        "for recipt in train_df.iloc[:,1]:\n",
        "    raw_cuisines.append(recipt.strip())\n",
        "    \n",
        "ingredients=list(set(raw_ingredients)) #remove duplicates\n",
        "print(\"Numbers of Unique Ingredients: \", len(ingredients))"
      ],
      "execution_count": null,
      "outputs": []
    },
    {
      "cell_type": "code",
      "metadata": {
        "id": "EupCwa-_WAeH"
      },
      "source": [
        "for ing in ingredients:\n",
        "    vector=[]\n",
        "    # loop for train data\n",
        "    for recipe in train_df.ingredients: \n",
        "        if ing in recipe:\n",
        "            vector.append(1)\n",
        "        else:\n",
        "            vector.append(0)\n",
        "    train_df[ing]=pd.Series(vector,index=train_df.index) # Adds column containing 0 and 1's for this ingredient\n",
        "    \n",
        "    # loop for test data\n",
        "    vector=[]\n",
        "    for recipe in test_df.ingredients:\n",
        "        if ing in recipe:\n",
        "            vector.append(1)\n",
        "        else:\n",
        "            vector.append(0)\n",
        "    test_df[ing]=pd.Series(vector,index=test_df.index) # Adds column containing 0 and 1's for this ingredient"
      ],
      "execution_count": null,
      "outputs": []
    },
    {
      "cell_type": "markdown",
      "metadata": {
        "id": "RpltLgvnfWKq"
      },
      "source": [
        ""
      ]
    },
    {
      "cell_type": "markdown",
      "metadata": {
        "id": "-WkxVOaKfP6M"
      },
      "source": [
        "##Preparing The Dataset \n",
        "removing unnecessary columns "
      ]
    },
    {
      "cell_type": "code",
      "metadata": {
        "id": "sIl9A9AzWGWF"
      },
      "source": [
        "\n",
        "train_df=train_df.drop('ingredients',1)\n",
        "train_df=train_df.drop('id',1)\n",
        "\n",
        "test_df=test_df.drop('ingredients',1)\n",
        "test_df=test_df.drop('id',1)\n",
        "\n",
        "train_df.head()"
      ],
      "execution_count": null,
      "outputs": []
    },
    {
      "cell_type": "code",
      "metadata": {
        "id": "kSu-RL4oWLNa"
      },
      "source": [
        "# Creating train & test set\n",
        "X_train=train_df.drop('cuisine',axis=1)\n",
        "Y_train=train_df['cuisine']\n",
        "X_test=test_df.drop('cuisine',axis=1)\n",
        "Y_test=test_df['cuisine']"
      ],
      "execution_count": null,
      "outputs": []
    },
    {
      "cell_type": "code",
      "metadata": {
        "id": "LQqYhkI7Xrp5"
      },
      "source": [
        "from sklearn import metrics\n",
        "\n",
        "forest=RFC(n_estimators=10,max_features=10)\n",
        "forest.fit(X_train,Y_train)\n",
        "output=forest.predict(X_test)\n",
        "print(\"Accuracy of the model: \", metrics.accuracy_score(Y_test, output))"
      ],
      "execution_count": null,
      "outputs": []
    },
    {
      "cell_type": "code",
      "metadata": {
        "id": "Lb7Y6Ib3XuMT"
      },
      "source": [
        "#Optimize the number of estimators for a given number of maximum features\n",
        "opt_table_estimators=list()\n",
        "n_features=5\n",
        "n_estimators=50\n",
        "for i in range(1,n_estimators):\n",
        "    forest=RFC(n_estimators=i,max_features=n_features)\n",
        "    forest.fit(X_train,Y_train)\n",
        "    output=forest.predict(X_test)\n",
        "    opt_table_estimators.append(metrics.accuracy_score(Y_test, output))\n",
        "plt.plot(range(1,n_estimators), opt_table_estimators)\n",
        "plt.xlabel('Number of trees')\n",
        "plt.ylabel('Random Forest Score')\n",
        "plt.title('Random Forest Score VS Number of trees (5 features)')\n",
        "plt.show()"
      ],
      "execution_count": null,
      "outputs": []
    },
    {
      "cell_type": "code",
      "metadata": {
        "id": "4G4pzcK-XxWD"
      },
      "source": [
        "# Number of features\n",
        "opt_table_n_features=list()\n",
        "n_estimators=5\n",
        "n_features=50\n",
        "for i in range(1,n_features):\n",
        "    forest=RFC(n_estimators=i,max_features=n_features)\n",
        "    forest.fit(X_train,Y_train)\n",
        "    output=forest.predict(X_test)\n",
        "    opt_table_n_features.append(metrics.accuracy_score(Y_test, output))\n",
        "plt.plot(range(1,n_features), opt_table_n_features)\n",
        "plt.xlabel('Number of features')\n",
        "plt.ylabel('Random Forest Score')\n",
        "plt.title('Random Forest Score VS Number of features (5 trees)')\n",
        "plt.show()"
      ],
      "execution_count": null,
      "outputs": []
    },
    {
      "cell_type": "code",
      "metadata": {
        "id": "-bSff5rGYDvR"
      },
      "source": [
        "forest=RFC(n_estimators=40,max_features=10)\n",
        "forest.fit(X_train,Y_train)\n",
        "output=forest.predict(X_test)\n",
        "print(\"Accucary of the model: \",metrics.accuracy_score(Y_test, output))"
      ],
      "execution_count": null,
      "outputs": []
    },
    {
      "cell_type": "code",
      "metadata": {
        "id": "mSrbtzwzYIEI"
      },
      "source": [
        "#Results\n",
        "Output=pd.DataFrame(test_df.iloc[:,0])\n",
        "Output['Prediction']=pd.Series(output,index=test_df.index)\n",
        "Output.head(20)"
      ],
      "execution_count": null,
      "outputs": []
    },
    {
      "cell_type": "code",
      "metadata": {
        "id": "91Zn96rrYKVt"
      },
      "source": [
        "importance = forest.feature_importances_\n",
        "importance = pd.DataFrame(importance, index=X_train.columns, columns=[\"Importance\"])\n",
        "importance_plot=importance.sort_values('Importance',ascending=False ).loc[importance['Importance']>0.004,:]\n",
        "x = np.arange(len(importance_plot.index.values))\n",
        "y = importance_plot.iloc[:, 0]\n",
        "plt.bar(x, y,align='center')\n",
        "plt.xticks(x,importance_plot.index.values,rotation=85)\n",
        "plt.ylabel('Importance')\n",
        "plt.title('Main ingredients importance')\n",
        "plt.autoscale(tight=True)\n",
        "plt.show()"
      ],
      "execution_count": null,
      "outputs": []
    },
    {
      "cell_type": "markdown",
      "metadata": {
        "id": "eDJCmI0aYUtV"
      },
      "source": [
        "#### Conclusion"
      ]
    },
    {
      "cell_type": "markdown",
      "metadata": {
        "id": "4e1LgLt9Yigq"
      },
      "source": [
        "`Olive oil` and `Salt` are the most important ingredients while predicting cuisine."
      ]
    },
    {
      "cell_type": "code",
      "metadata": {
        "id": "1Tp07VITYjr5"
      },
      "source": [
        ""
      ],
      "execution_count": null,
      "outputs": []
    }
  ]
}